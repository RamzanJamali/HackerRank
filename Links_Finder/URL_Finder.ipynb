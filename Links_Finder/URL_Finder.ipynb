{
 "cells": [
  {
   "cell_type": "code",
   "execution_count": 1,
   "id": "66b28a9a",
   "metadata": {},
   "outputs": [],
   "source": [
    "from threading import Thread, Lock\n",
    "from requests_html import HTMLSession\n",
    "import re\n",
    "import numpy as np\n",
    "import pandas as pd\n",
    "from urllib.parse import urlsplit"
   ]
  },
  {
   "cell_type": "code",
   "execution_count": 2,
   "id": "0012af30",
   "metadata": {},
   "outputs": [],
   "source": [
    "linklist = []\n",
    "\n",
    "def links_scraper(single_url):\n",
    "    \n",
    "    try:\n",
    "        alllinks = []\n",
    "        session = HTMLSession()\n",
    "        r = session.get(single_url, timeout=30)\n",
    "        site=r.html.absolute_links\n",
    "        print(site)\n",
    "        the_list = list(r.html.absolute_links)\n",
    "        alllinks.extend(list(zip([single_url for _ in range(len(the_list))], the_list)))\n",
    "        for link in alllinks:\n",
    "            linklist.extend(link)\n",
    "            \n",
    "    except Exception as e:\n",
    "        # print(\"Exception:\", e)\n",
    "        linklist.append((single_url, single_url))"
   ]
  },
  {
   "cell_type": "code",
   "execution_count": 3,
   "id": "a9f45313",
   "metadata": {
    "scrolled": true
   },
   "outputs": [
    {
     "name": "stdout",
     "output_type": "stream",
     "text": [
      "Enter url: https://www.dnb.com/\n",
      "www.dnb.com\n",
      "dnb.com\n",
      "{'https://www.dnb.com/marketing/media/credit-intelligence-free-trial.html?serv=UPPCFOHP104621', 'https://www.dnb.com/utility-pages/accessibility.html', 'https://www.dnb.com/about-us/our-analytics.html', 'https://twitter.com/DunBradstreet', 'https://www.dnb.com/about-us/careers-and-people.html', 'https://www.dnb.com/perspectives/finance-credit-risk/risk-data-management-culture-survey.html?serv=homepageus', 'http://www.linkedin.com/company/dun-&-bradstreet', 'https://www.dnb.com/utility-pages/dnb-third-party-standard-contractual-clauses.html', 'https://www.dnb.com/products/marketing-sales/dnb-hoovers/free-trial.html', 'https://www.dnb.com/solutions/reach-and-engage-educators.html', 'https://www.dnb.com/choose-your-country.html', 'https://www.dnb.com/site-survey.html', 'https://www.dnb.com/products/corporate-compliance/beneficial-ownership.html', 'https://www.dnb.com/utility-pages/data-source-attribution-statements.html', 'https://investor.dnb.com/news/default.aspx', 'https://www.dnb.com/about-us/events.html', 'https://www.dnb.com/solutions/become-a-partner.html', 'https://www.dnb.com/solutions/reach-engage-buyers.html', 'https://www.dnb.com/perspectives/finance-credit-risk/creating-the-bridge-from-credit-to-cash-webinar.html', 'https://www.dnb.com/solutions/manage-supplier-risk.html', 'https://www.dnb.com/solutions/streamline-receivables-management.html', 'https://info01.dnb.com/global_disruption_ondemand.html', 'https://www.dnb.com/about-us/our-worldwide-network.html', 'https://www.dnb.com/solutions/manage-credit-risk.html', 'https://www.dnb.com/solutions/streamline-regulatory-compliance.html', 'https://support.dnb.com/?PROD=CCPARightToOptOut', 'https://www.dnb.com/duns-number.html', 'https://www.dnb.com/products/marketing-sales/audience-targeting.html', 'https://www.dnb.com/products/finance-credit-risk/dnb-finance-analytics.html', 'https://www.dnb.com/marketing/media/ri-demo.html', 'https://www.dnb.com/site-map.html', 'https://www.dnb.com/utility-pages/terms-of-use.html', 'https://www.dnb.com/products.html', 'https://www.facebook.com/DunBradstreet', 'https://www.dnb.com/solutions/clean-enrich-consolidate-data.html', 'https://www.dnb.com/perspectives/marketing-sales/8th-annual-b2b-sales-and-marketing-data-report.html', 'https://www.dnb.com/about-us.html', 'https://www.dnb.com/contact-us.html', 'https://developer.dnb.com', 'https://investor.dnb.com/', 'https://www.dnb.com/products/small-business/rev-up-now.html', 'https://www.dnb.com/content-hub.html', 'https://www.dnb.com/utility-pages/privacy-policy.html', 'https://www.dnb.com/utility-pages/communication-preferences.html', 'https://www.dnb.com/about-us/our-esg-commitment.html', 'https://home.hubs.vidyard.com/', 'https://www.dnb.com/perspectives/power-of-data-podcast.html', 'https://www.dnb.com/resources.html', 'https://www.dnb.com/products/small-business/credit-monitor.html', 'https://www.dnb.com/solutions/partner.html', 'https://www.dnb.com/duns-number/view-update-company-credit-file.html', 'https://www.dnb.com/utility-pages/policies-codes-of-conduct.html', 'https://www.dnb.com/perspectives.html', 'https://privacy.truste.com/privacy-seal/validation?rid=1ec10018-7b08-4fe6-883e-f77267c22164', 'https://www.dnb.com/customer-success.html', 'https://www.dnb.com/solutions.html', 'https://dnb-bsp.hubs.vidyard.com/watch/z8uJtfVAsHskYE9wpcb1aP.html?'}\n"
     ]
    }
   ],
   "source": [
    "url = input('Enter url: ')\n",
    "parts = urlsplit(url)\n",
    "base = '{0.netloc}'.format(parts)\n",
    "print(base)\n",
    "temp = base.split('.')\n",
    "remove_this = temp[0] + '.'\n",
    "base = base.replace(remove_this, '')\n",
    "print(base)\n",
    "links_scraper(url)"
   ]
  },
  {
   "cell_type": "code",
   "execution_count": 4,
   "id": "0f79df37",
   "metadata": {},
   "outputs": [
    {
     "name": "stdout",
     "output_type": "stream",
     "text": [
      "114\n"
     ]
    }
   ],
   "source": [
    "print(len(linklist))"
   ]
  },
  {
   "cell_type": "code",
   "execution_count": 20,
   "id": "ef709344",
   "metadata": {},
   "outputs": [
    {
     "name": "stdout",
     "output_type": "stream",
     "text": [
      "['https://www.dnb.com/', 'https://www.dnb.com/utility-pages/privacy-policy.html', 'https://www.dnb.com/', 'https://www.dnb.com/utility-pages/terms-of-use.html', 'https://www.dnb.com/', 'https://www.dnb.com/resources.html', 'https://www.dnb.com/', 'https://investor.dnb.com/', 'https://www.dnb.com/', 'https://www.dnb.com/about-us/our-esg-commitment.html', 'https://www.dnb.com/', 'https://www.dnb.com/about-us/our-worldwide-network.html', 'https://www.dnb.com/', 'https://www.facebook.com/DunBradstreet', 'https://www.dnb.com/', 'https://www.dnb.com/perspectives/marketing-sales/8th-annual-b2b-sales-and-marketing-data-report.html', 'https://www.dnb.com/', 'https://www.dnb.com/about-us.html', 'https://www.dnb.com/', 'http://www.linkedin.com/company/dun-&-bradstreet', 'https://www.dnb.com/', 'https://www.dnb.com/products/finance-credit-risk/dnb-finance-analytics.html', 'https://www.dnb.com/', 'https://www.dnb.com/utility-pages/accessibility.html', 'https://www.dnb.com/', 'https://www.dnb.com/marketing/media/credit-intelligence-free-trial.html?serv=UPPCFOHP104621', 'https://www.dnb.com/', 'https://www.dnb.com/perspectives/power-of-data-podcast.html', 'https://www.dnb.com/', 'https://www.dnb.com/about-us/careers-and-people.html', 'https://www.dnb.com/', 'https://www.dnb.com/customer-success.html', 'https://www.dnb.com/', 'https://developer.dnb.com', 'https://www.dnb.com/', 'https://home.hubs.vidyard.com/', 'https://www.dnb.com/', 'https://www.dnb.com/about-us/events.html', 'https://www.dnb.com/', 'https://www.dnb.com/products/marketing-sales/dnb-hoovers/free-trial.html', 'https://www.dnb.com/', 'https://www.dnb.com/products.html', 'https://www.dnb.com/', 'https://investor.dnb.com/news/default.aspx', 'https://www.dnb.com/', 'https://www.dnb.com/about-us/our-analytics.html', 'https://www.dnb.com/', 'https://www.dnb.com/contact-us.html', 'https://www.dnb.com/', 'https://www.dnb.com/site-survey.html', 'https://www.dnb.com/', 'https://www.dnb.com/perspectives.html', 'https://www.dnb.com/', 'https://www.dnb.com/content-hub.html', 'https://www.dnb.com/', 'https://www.dnb.com/perspectives/finance-credit-risk/creating-the-bridge-from-credit-to-cash-webinar.html', 'https://www.dnb.com/', 'https://www.dnb.com/solutions/streamline-receivables-management.html', 'https://www.dnb.com/', 'https://www.dnb.com/perspectives/finance-credit-risk/risk-data-management-culture-survey.html?serv=homepageus', 'https://www.dnb.com/', 'https://www.dnb.com/solutions.html', 'https://www.dnb.com/', 'https://dnb-bsp.hubs.vidyard.com/watch/z8uJtfVAsHskYE9wpcb1aP.html?', 'https://www.dnb.com/', 'https://www.dnb.com/utility-pages/dnb-third-party-standard-contractual-clauses.html', 'https://www.dnb.com/', 'https://www.dnb.com/products/small-business/credit-monitor.html', 'https://www.dnb.com/', 'https://www.dnb.com/choose-your-country.html', 'https://www.dnb.com/', 'https://www.dnb.com/products/corporate-compliance/beneficial-ownership.html', 'https://www.dnb.com/', 'https://www.dnb.com/solutions/partner.html', 'https://www.dnb.com/', 'https://www.dnb.com/duns-number/view-update-company-credit-file.html', 'https://www.dnb.com/', 'https://www.dnb.com/solutions/manage-supplier-risk.html', 'https://www.dnb.com/', 'https://www.dnb.com/products/marketing-sales/audience-targeting.html', 'https://www.dnb.com/', 'https://www.dnb.com/utility-pages/communication-preferences.html', 'https://www.dnb.com/', 'https://www.dnb.com/products/small-business/rev-up-now.html', 'https://www.dnb.com/', 'https://twitter.com/DunBradstreet', 'https://www.dnb.com/', 'https://www.dnb.com/site-map.html', 'https://www.dnb.com/', 'https://www.dnb.com/duns-number.html', 'https://www.dnb.com/', 'https://www.dnb.com/solutions/reach-engage-buyers.html', 'https://www.dnb.com/', 'https://info01.dnb.com/global_disruption_ondemand.html', 'https://www.dnb.com/', 'https://www.dnb.com/utility-pages/policies-codes-of-conduct.html', 'https://www.dnb.com/', 'https://www.dnb.com/solutions/manage-credit-risk.html', 'https://www.dnb.com/', 'https://www.dnb.com/solutions/reach-and-engage-educators.html', 'https://www.dnb.com/', 'https://support.dnb.com/?PROD=CCPARightToOptOut', 'https://www.dnb.com/', 'https://www.dnb.com/marketing/media/ri-demo.html', 'https://www.dnb.com/', 'https://www.dnb.com/solutions/become-a-partner.html', 'https://www.dnb.com/', 'https://www.dnb.com/utility-pages/data-source-attribution-statements.html', 'https://www.dnb.com/', 'https://privacy.truste.com/privacy-seal/validation?rid=1ec10018-7b08-4fe6-883e-f77267c22164', 'https://www.dnb.com/', 'https://www.dnb.com/solutions/streamline-regulatory-compliance.html', 'https://www.dnb.com/', 'https://www.dnb.com/solutions/clean-enrich-consolidate-data.html']\n"
     ]
    }
   ],
   "source": [
    "print(linklist)"
   ]
  },
  {
   "cell_type": "code",
   "execution_count": 24,
   "id": "b4006f0c",
   "metadata": {},
   "outputs": [
    {
     "name": "stdout",
     "output_type": "stream",
     "text": [
      "www.dnb.com\n",
      "www.dnb.com\n",
      "www.dnb.com\n",
      "www.dnb.com\n",
      "www.dnb.com\n",
      "www.dnb.com\n",
      "www.dnb.com\n",
      "investor.dnb.com\n",
      "www.dnb.com\n",
      "www.dnb.com\n",
      "www.dnb.com\n",
      "www.dnb.com\n",
      "www.dnb.com\n",
      "www.facebook.com\n",
      "www.dnb.com\n",
      "www.dnb.com\n",
      "www.dnb.com\n",
      "www.dnb.com\n",
      "www.dnb.com\n",
      "www.linkedin.com\n",
      "www.dnb.com\n",
      "www.dnb.com\n",
      "www.dnb.com\n",
      "www.dnb.com\n",
      "www.dnb.com\n",
      "www.dnb.com\n",
      "www.dnb.com\n",
      "www.dnb.com\n",
      "www.dnb.com\n",
      "www.dnb.com\n",
      "www.dnb.com\n",
      "www.dnb.com\n",
      "www.dnb.com\n",
      "developer.dnb.com\n",
      "www.dnb.com\n",
      "home.hubs.vidyard.com\n",
      "www.dnb.com\n",
      "www.dnb.com\n",
      "www.dnb.com\n",
      "www.dnb.com\n",
      "www.dnb.com\n",
      "www.dnb.com\n",
      "www.dnb.com\n",
      "investor.dnb.com\n",
      "www.dnb.com\n",
      "www.dnb.com\n",
      "www.dnb.com\n",
      "www.dnb.com\n",
      "www.dnb.com\n",
      "www.dnb.com\n",
      "www.dnb.com\n",
      "www.dnb.com\n",
      "www.dnb.com\n",
      "www.dnb.com\n",
      "www.dnb.com\n",
      "www.dnb.com\n",
      "www.dnb.com\n",
      "www.dnb.com\n",
      "www.dnb.com\n",
      "www.dnb.com\n",
      "www.dnb.com\n",
      "www.dnb.com\n",
      "www.dnb.com\n",
      "dnb-bsp.hubs.vidyard.com\n",
      "www.dnb.com\n",
      "www.dnb.com\n",
      "www.dnb.com\n",
      "www.dnb.com\n",
      "www.dnb.com\n",
      "www.dnb.com\n",
      "www.dnb.com\n",
      "www.dnb.com\n",
      "www.dnb.com\n",
      "www.dnb.com\n",
      "www.dnb.com\n",
      "www.dnb.com\n",
      "www.dnb.com\n",
      "www.dnb.com\n",
      "www.dnb.com\n",
      "www.dnb.com\n",
      "www.dnb.com\n",
      "www.dnb.com\n",
      "www.dnb.com\n",
      "www.dnb.com\n",
      "www.dnb.com\n",
      "twitter.com\n",
      "www.dnb.com\n",
      "www.dnb.com\n",
      "www.dnb.com\n",
      "www.dnb.com\n",
      "www.dnb.com\n",
      "www.dnb.com\n",
      "www.dnb.com\n",
      "info01.dnb.com\n",
      "www.dnb.com\n",
      "www.dnb.com\n",
      "www.dnb.com\n",
      "www.dnb.com\n",
      "www.dnb.com\n",
      "www.dnb.com\n",
      "www.dnb.com\n",
      "support.dnb.com\n",
      "www.dnb.com\n",
      "www.dnb.com\n",
      "www.dnb.com\n",
      "www.dnb.com\n",
      "www.dnb.com\n",
      "www.dnb.com\n",
      "www.dnb.com\n",
      "privacy.truste.com\n",
      "www.dnb.com\n",
      "www.dnb.com\n",
      "www.dnb.com\n",
      "www.dnb.com\n"
     ]
    }
   ],
   "source": [
    "# Getting base url\n",
    "url_bases = []\n",
    "for url in linklist:\n",
    "    #print(url)\n",
    "    parts = urlsplit(url)\n",
    "    base = '{0.netloc}'.format(parts)\n",
    "    print(base)\n",
    "    strip_base = base.replace('www.', \"\")\n",
    "    strip_base = strip_base.split('.')\n",
    "    url_bases.append(strip_base[0])"
   ]
  },
  {
   "cell_type": "code",
   "execution_count": 22,
   "id": "c435bfaa",
   "metadata": {},
   "outputs": [
    {
     "name": "stdout",
     "output_type": "stream",
     "text": [
      "114\n"
     ]
    }
   ],
   "source": [
    "print(len(url_bases))"
   ]
  },
  {
   "cell_type": "code",
   "execution_count": 23,
   "id": "48a3133f",
   "metadata": {},
   "outputs": [
    {
     "name": "stdout",
     "output_type": "stream",
     "text": [
      "['dnb', 'dnb', 'dnb', 'dnb', 'dnb', 'dnb', 'dnb', 'investor', 'dnb', 'dnb', 'dnb', 'dnb', 'dnb', 'facebook', 'dnb', 'dnb', 'dnb', 'dnb', 'dnb', 'linkedin', 'dnb', 'dnb', 'dnb', 'dnb', 'dnb', 'dnb', 'dnb', 'dnb', 'dnb', 'dnb', 'dnb', 'dnb', 'dnb', 'developer', 'dnb', 'home', 'dnb', 'dnb', 'dnb', 'dnb', 'dnb', 'dnb', 'dnb', 'investor', 'dnb', 'dnb', 'dnb', 'dnb', 'dnb', 'dnb', 'dnb', 'dnb', 'dnb', 'dnb', 'dnb', 'dnb', 'dnb', 'dnb', 'dnb', 'dnb', 'dnb', 'dnb', 'dnb', 'dnb-bsp', 'dnb', 'dnb', 'dnb', 'dnb', 'dnb', 'dnb', 'dnb', 'dnb', 'dnb', 'dnb', 'dnb', 'dnb', 'dnb', 'dnb', 'dnb', 'dnb', 'dnb', 'dnb', 'dnb', 'dnb', 'dnb', 'twitter', 'dnb', 'dnb', 'dnb', 'dnb', 'dnb', 'dnb', 'dnb', 'info01', 'dnb', 'dnb', 'dnb', 'dnb', 'dnb', 'dnb', 'dnb', 'support', 'dnb', 'dnb', 'dnb', 'dnb', 'dnb', 'dnb', 'dnb', 'privacy', 'dnb', 'dnb', 'dnb', 'dnb']\n"
     ]
    }
   ],
   "source": [
    "print(url_bases)"
   ]
  },
  {
   "cell_type": "code",
   "execution_count": null,
   "id": "f6e7acb2",
   "metadata": {},
   "outputs": [],
   "source": []
  }
 ],
 "metadata": {
  "kernelspec": {
   "display_name": "Python 3 (ipykernel)",
   "language": "python",
   "name": "python3"
  },
  "language_info": {
   "codemirror_mode": {
    "name": "ipython",
    "version": 3
   },
   "file_extension": ".py",
   "mimetype": "text/x-python",
   "name": "python",
   "nbconvert_exporter": "python",
   "pygments_lexer": "ipython3",
   "version": "3.9.13"
  }
 },
 "nbformat": 4,
 "nbformat_minor": 5
}
