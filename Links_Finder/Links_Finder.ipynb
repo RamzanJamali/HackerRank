{
 "cells": [
  {
   "cell_type": "code",
   "execution_count": 1,
   "id": "2363ea4e",
   "metadata": {},
   "outputs": [],
   "source": [
    "# Import relevant libraries\n",
    "from selenium import webdriver\n",
    "from selenium.webdriver.chrome.service import Service\n",
    "from selenium.webdriver.chrome.options import Options\n",
    "from selenium.webdriver.common.keys import Keys\n",
    "from selenium.webdriver.common.by import By\n",
    "import re"
   ]
  },
  {
   "cell_type": "code",
   "execution_count": 2,
   "id": "0336d166",
   "metadata": {},
   "outputs": [],
   "source": [
    "# Step 1\n",
    "    # Choose the Industry type from industry directory. Link is given below\n",
    "    #https://www.dnb.com/business-directory.html\n",
    "# Step 2\n",
    "    # Choose Germany in country/region section\n",
    "# Step 3\n",
    "    # Copy the url of desired page\n",
    "    # For example\n",
    "    # https://www.dnb.com/business-directory/company-information.other_miscellaneous_store_retailers.de.html?page=2\n",
    "# Step 4\n",
    "    # paste the link in driver.get(url)\n",
    "# Step 5\n",
    "    # Provide the text file name in which you want to store links"
   ]
  },
  {
   "cell_type": "code",
   "execution_count": 3,
   "id": "9b16c468",
   "metadata": {},
   "outputs": [],
   "source": [
    "service = Service(executable_path=r'C:\\Program Files\\Google\\Chrome\\Application\\chromedriver')\n",
    "options = webdriver.ChromeOptions()\n",
    "options.add_experimental_option(\"excludeSwitches\",[\"ignore-certificate-errors\"])\n",
    "options.add_argument('--disable-gpu')\n",
    "options.add_argument('--headless')\n",
    "options.add_argument('--no-sandbox')\n",
    "options.add_argument('--disable-dev-shm-usage')\n",
    "options.add_argument(\"user-agent=Mozilla/5.0 (Windows NT 6.1; Win64; x64) AppleWebKit/537.36 (KHTML, like Gecko) Chrome/84.0.4147.125 Safari/537.36\")\n",
    "\n",
    "# To make pages load faster by excluding some resources.\n",
    "options.add_experimental_option( \"prefs\",{'profile.managed_default_content_settings.xhr': 2,\n",
    "                                                 'profile.managed_default_content_settings.preflight': 2,\n",
    "                                                 'profile.managed_default_content_settings.images': 2,\n",
    "                                                'profile.managed_default_content_settings.font': 2,\n",
    "                                                'profile.managed_default_content_settings.css': 2})"
   ]
  },
  {
   "cell_type": "code",
   "execution_count": 24,
   "id": "abeafa09",
   "metadata": {
    "scrolled": false
   },
   "outputs": [
    {
     "name": "stdout",
     "output_type": "stream",
     "text": [
      "Enter URL: https://www.dnb.com/\n",
      "Done\n"
     ]
    }
   ],
   "source": [
    "# insert chromedriver location in webdriver\n",
    "#driver = webdriver.Chrome('C:\\Program Files\\Google\\Chrome\\Application\\chromedriver')\n",
    "driver = webdriver.Chrome(service=service, options=options)\n",
    "\n",
    "url = input('Enter URL: ')\n",
    "\n",
    "# URL validation\n",
    "if not url.startswith(\"https\"):\n",
    "    url = 'https://' + url\n",
    "elif not url.startswith(\"http\"):\n",
    "    url = 'http://' + url\n",
    "else:\n",
    "    pass\n",
    "\n",
    "driver.get(url)\n",
    "\n",
    "# Give the required tag and/or class, etc.\n",
    "elems = driver.find_elements(by=By.TAG_NAME, value=\"a\")\n",
    "all_links = {}\n",
    "# Save the scraped links in list\n",
    "for elem in elems:\n",
    "    link = elem.get_attribute(\"href\")\n",
    "    all_links[link] = 1\n",
    "\n",
    "\n",
    "try:\n",
    "    all_links.pop(None)\n",
    "    all_links = {k: v for k, v in all_links.items() if k.startswith('http')}\n",
    "except:\n",
    "    pass\n",
    "\n",
    "# Save useful links in text file in current directory\n",
    "with open('links.txt', 'w') as f:\n",
    "    f.write('\\n'.join(all_links))\n",
    "        \n",
    "\n",
    "print(\"Done\")"
   ]
  },
  {
   "cell_type": "code",
   "execution_count": 25,
   "id": "136f5f47",
   "metadata": {},
   "outputs": [
    {
     "name": "stdout",
     "output_type": "stream",
     "text": [
      "161\n"
     ]
    }
   ],
   "source": [
    "print(len(all_links))"
   ]
  },
  {
   "cell_type": "code",
   "execution_count": 26,
   "id": "7048c202",
   "metadata": {},
   "outputs": [
    {
     "name": "stdout",
     "output_type": "stream",
     "text": [
      "{'https://www.dnb.com/': 1, 'https://www.dnb.com/business-directory.html': 1, 'https://www.dnb.com/contact-directory.html': 1, 'https://www.dnb.com/customer-success.html': 1, 'https://www.dnb.com/choose-your-country.html': 1, 'https://my.dnb.com/login': 1, 'http://www.dnbcountryrisk.com/': 1, 'https://credit.dnb.com/login': 1, 'https://creditreporter.dnb.com/': 1, 'https://financeanalytics.dnb.com/': 1, 'https://www.supplierriskmanager.com/cp/login': 1, 'https://onboard.dnb.com/onboard/': 1, 'https://www.portfoliomanager.dnb.com/App/ContentPages/Logon/SecureLogon.aspx': 1, 'https://sso.dnb.com/': 1, 'https://www.dnb.com/content/dnb-us/en/home/duns-number/view-update-company-credit-file.html': 1, 'https://app.lattice-engines.com/login/form': 1, 'https://app.dnbhoovers.com/': 1, 'https://workbench.dnb.com/': 1, 'https://solutions.dnb.com/grs/': 1, 'https://sso.dnbi.com/cas/login': 1, 'https://www.dnb.com/solutions/analytics/analytics-sandbox.html': 1, 'https://www.dnb.com/duns-number/view-update-company-credit-file.html': 1, 'https://www.dnb.com/solutions/small-business/small-business-strategic-planning.html': 1, 'https://www.dnb.com/solutions/small-business/steps-start-small-business.html': 1, 'https://www.dnb.com/solutions/small-business/managing-small-business.html': 1, 'https://www.dnb.com/solutions/small-business/how-to-grow-small-business.html': 1, 'https://www.dnb.com/about-us/our-analytics.html': 1, 'https://www.dnb.com/products/small-business/check-my-business-credit.html': 1, 'https://www.dnb.com/products/small-business/build-my-business-credit.html': 1, 'https://www.dnb.com/products/small-business/check-other-business-credit.html': 1, 'https://www.dnb.com/products/small-business/business-listing-category.html': 1, 'https://www.dnb.com/products/small-business/rev-up-now.html': 1, 'https://www.dnb.com/products/small-business/hoovers-essentials.html': 1, 'https://www.dnb.com/products/marketing-sales/dnb-rev-up-cloud/rev-up-abx/web-essential.html?serv=meganav': 1, 'https://www.dnb.com/products/small-business.html': 1, 'https://www.dnb.com/duns-number/get-a-duns.html': 1, 'https://www.dnb.com/duns-number/lookup.html': 1, 'https://www.dnb.com/duns-number/duns-manager.html': 1, 'https://www.dnb.com/products/small-business/dnb-business-listing.html': 1, 'https://www.dnb.com/solutions/streamline-receivables-management.html': 1, 'https://www.dnb.com/solutions/manage-credit-risk.html': 1, 'https://www.dnb.com/products/finance-credit-risk/dnb-finance-analytics.html': 1, 'https://www.dnb.com/products/finance-credit-risk/dnb-finance-analytics/credit-intelligence.html': 1, 'https://www.dnb.com/products/finance-credit-risk/dnb-finance-analytics/receivables-intelligence.html': 1, 'https://www.dnb.com/products/finance-credit-risk/dnb-blended-score.html': 1, 'https://www.dnb.com/products/finance-credit-risk/dnb-eram.html': 1, 'https://www.dnb.com/products/finance-credit-risk/dnb-fraud-risk-network.html': 1, 'https://www.dnb.com/products/finance-credit-risk/dnb-fraud-risk.html': 1, 'https://www.dnb.com/products/finance-credit-risk/dnb-direct-for-finance.html': 1, 'https://www.dnb.com/products/master-data/dnb-connect.html': 1, 'https://www.dnb.com/products/finance-credit-risk.html': 1, 'https://www.dnb.com/content-hub.html': 1, 'https://www.dnb.com/perspectives/finance-credit-risk.html': 1, 'https://www.dnb.com/perspectives/finance-credit-risk.html?content-type=Customer': 1, 'https://www.dnb.com/resources.html': 1, 'https://www.dnb.com/perspectives/finance-credit-risk.html?content-type=Economic': 1, 'https://www.dnb.com/perspectives/videos.html?topic=Finance': 1, 'https://www.dnb.com/perspectives/finance-credit-risk/risk-data-management-culture-survey.html': 1, 'https://www.dnb.com/solutions/sales-prospecting-help.html': 1, 'https://www.dnb.com/solutions/marketing-segment-help.html': 1, 'https://www.dnb.com/solutions/clean-enrich-consolidate-data.html': 1, 'https://www.dnb.com/solutions/reach-and-engage-educators.html': 1, 'https://www.dnb.com/products/marketing-sales/dnb-rev-up-cloud/rev-up-abx.html': 1, 'https://www.dnb.com/products/marketing-sales/audience-targeting.html': 1, 'https://www.dnb.com/products/marketing-sales/dnb-optimizer.html': 1, 'https://www.dnb.com/products/marketing-sales/dnb-hoovers.html': 1, 'https://www.dnb.com/products/master-data/dnb-direct.html': 1, 'https://www.dnb.com/products/marketing-sales.html': 1, 'https://www.dnb.com/products/master-data.html': 1, 'https://www.dnb.com/perspectives/marketing-sales.html': 1, 'https://www.dnb.com/perspectives/our-customers.html': 1, 'https://www.dnb.com/resources/data-driven-marketing.html': 1, 'https://www.dnb.com/perspectives/videos.html?topic=Sales': 1, 'https://www.dnb.com/resources/b2b-sales-marketing-data-report.html?serv=meganav': 1, 'https://www.dnb.com/solutions/manage-supplier-risk.html': 1, 'https://www.dnb.com/solutions/streamline-regulatory-compliance.html': 1, 'https://www.dnb.com/products/third-party-risk/dnb-risk-analytics.html': 1, 'https://www.dnb.com/products/third-party-risk/dnb-compliance-intelligence.html': 1, 'https://www.dnb.com/products/corporate-compliance/direct-for-compliance.html': 1, 'https://www.dnb.com/products/third-party-risk/dnb-direct-for-supplier-risk.html': 1, 'https://www.dnb.com/products/third-party-risk/esg-intelligence.html': 1, 'https://www.dnb.com/products/third-party-risk/network-intelligence.html': 1, 'https://www.dnb.com/products/corporate-compliance/beneficial-ownership.html': 1, 'https://www.dnb.com/products/third-party-risk/supply-data-services.html': 1, 'https://www.dnb.com/products/third-party-risk.html': 1, 'https://www.dnb.com/perspectives/supply-chain.html': 1, 'https://www.dnb.com/perspectives/supply-chain.html?content-type=Customer': 1, 'https://www.dnb.com/perspectives/power-of-data-podcast/power-of-data-podcast-episode-38.html': 1, 'https://www.dnb.com/solutions/public-sector/verify-business-information.html': 1, 'https://www.dnb.com/solutions/public-sector/supplier-due-diligence.html': 1, 'https://www.dnb.com/solutions/public-sector/regional-businesses-economy-health.html': 1, 'https://www.dnb.com/solutions/public-sector/discover-hidden-business-relationships.html': 1, 'https://www.dnb.com/solutions/public-sector/supply-chain-risk-mitigation.html': 1, 'https://www.dnb.com/solutions/public-sector/federal.html': 1, 'https://www.dnb.com/solutions/public-sector/state-local-provincial.html': 1, 'https://www.dnb.com/marketing/media/public-sector-partner-program.html': 1, 'https://www.dnb.com/products/public-sector/investigate.html': 1, 'https://www.dnb.com/duns-number/duns-number-and-government.html': 1, 'https://www.dnb.com/products/government.html': 1, 'https://www.dnb.com/perspectives/government.html': 1, 'https://www.dnb.com/perspectives/government.html?content-type=Customer': 1, 'https://www.dnb.com/perspectives/videos.html?topic=Gov': 1, 'https://www.dnb.com/perspectives/government/prevent-improper-payments.html': 1, 'https://www.dnb.com/duns/what-is-a-DUNS-number.html': 1, 'https://www.dnb.com/duns/get-a-duns.html': 1, 'https://www.dnb.com/duns/duns-lookup.html': 1, 'https://www.dnb.com/duns/duns-number-and-government.html': 1, 'https://www.dnb.com/duns/duns-manager.html': 1, 'https://www.dnb.com/duns/duns-and-companies.html': 1, 'https://www.dnb.com/about-us.html': 1, 'https://www.dnb.com/about-us/data-cloud/live-business-identity.html': 1, 'https://www.dnb.com/marketplace.html': 1, 'https://www.dnb.com/solutions/partner.html': 1, 'https://investor.dnb.com/home/default.aspx': 1, 'https://www.dnb.com/about-us/data-cloud.html': 1, 'https://www.dnb.com/about-us/our-analytics/predictors-scores-ratings.html': 1, 'https://www.dnb.com/about-us/careers-and-people.html': 1, 'https://www.dnb.com/perspectives/finance-credit-risk/risk-data-management-culture-survey.html?serv=homepageus': 1, 'https://www.dnb.com/products/small-business/credit-monitor.html': 1, 'https://www.dnb.com/marketing/media/credit-intelligence-free-trial.html?serv=UPPCFOHP104621': 1, 'https://www.dnb.com/products/marketing-sales/dnb-hoovers/free-trial.html': 1, 'https://www.dnb.com/solutions/reach-engage-buyers.html': 1, 'https://www.dnb.com/solutions/become-a-partner.html': 1, 'https://www.dnb.com/marketing/media/ri-demo.html': 1, 'https://dnb-bsp.hubs.vidyard.com/watch/z8uJtfVAsHskYE9wpcb1aP.html?': 1, 'https://info01.dnb.com/global_disruption_ondemand.html': 1, 'https://www.dnb.com/perspectives/finance-credit-risk/creating-the-bridge-from-credit-to-cash-webinar.html': 1, 'https://www.dnb.com/about-us/events.html': 1, 'https://www.dnb.com/perspectives/power-of-data-podcast.html': 1, 'https://www.dnb.com/perspectives/marketing-sales/8th-annual-b2b-sales-and-marketing-data-report.html': 1, 'https://www.dnb.com/perspectives/finance-credit-risk/morningstar-customer-story.html': 1, 'https://salesandmarketing.hubs.vidyard.com/watch/xRKawsZ575hgrNkeDN8Mhj': 1, 'https://www.dnb.com/perspectives.html': 1, 'https://www.dnb.com/solutions.html': 1, 'https://www.dnb.com/products.html': 1, 'https://www.dnb.com/duns-number.html': 1, 'https://home.hubs.vidyard.com/': 1, 'https://www.dnb.com/about-us/our-esg-commitment.html': 1, 'https://investor.dnb.com/news/default.aspx': 1, 'https://investor.dnb.com/': 1, 'https://www.dnb.com/contact-us.html': 1, 'https://www.dnb.com/utility-pages/communication-preferences.html': 1, 'https://www.dnb.com/site-survey.html': 1, 'https://www.dnb.com/about-us/our-worldwide-network.html': 1, 'https://developer.dnb.com/': 1, 'https://www.facebook.com/DunBradstreet': 1, 'http://www.linkedin.com/company/dun-&-bradstreet': 1, 'https://twitter.com/DunBradstreet': 1, 'https://support.dnb.com/?PROD=CCPARightToOptOut': 1, 'https://www.dnb.com/utility-pages/policies-codes-of-conduct.html': 1, 'https://www.dnb.com/utility-pages/dnb-third-party-standard-contractual-clauses.html': 1, 'https://www.dnb.com/utility-pages/privacy-policy.html': 1, 'https://www.dnb.com/utility-pages/accessibility.html': 1, 'https://www.dnb.com/utility-pages/terms-of-use.html': 1, 'https://www.dnb.com/utility-pages/data-source-attribution-statements.html': 1, 'https://www.dnb.com/site-map.html': 1, 'https://privacy.truste.com/privacy-seal/validation?rid=1ec10018-7b08-4fe6-883e-f77267c22164': 1, 'https://www.dnb.com/#': 1, 'https://www.dnb.com/utility-pages/dun-bradstreet-free-trial-terms.html': 1, 'https://tdp.trustarc.com/?cmId=tlglke&seedUrl=https://www.dnb.com/': 1, 'https://trustarc.com/': 1}\n"
     ]
    }
   ],
   "source": [
    "print(all_links)"
   ]
  },
  {
   "cell_type": "code",
   "execution_count": null,
   "id": "5d5509e2",
   "metadata": {},
   "outputs": [],
   "source": []
  }
 ],
 "metadata": {
  "kernelspec": {
   "display_name": "Python 3 (ipykernel)",
   "language": "python",
   "name": "python3"
  },
  "language_info": {
   "codemirror_mode": {
    "name": "ipython",
    "version": 3
   },
   "file_extension": ".py",
   "mimetype": "text/x-python",
   "name": "python",
   "nbconvert_exporter": "python",
   "pygments_lexer": "ipython3",
   "version": "3.9.13"
  }
 },
 "nbformat": 4,
 "nbformat_minor": 5
}
