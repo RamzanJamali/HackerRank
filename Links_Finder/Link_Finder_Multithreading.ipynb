{
 "cells": [
  {
   "cell_type": "code",
   "execution_count": 1,
   "id": "66aa56ed",
   "metadata": {},
   "outputs": [],
   "source": [
    "from selenium import webdriver\n",
    "from selenium.webdriver.chrome.service import Service\n",
    "from selenium.webdriver.chrome.options import Options\n",
    "from selenium.webdriver.common.keys import Keys\n",
    "from selenium.webdriver.common.by import By\n",
    "import re\n",
    "import threading\n",
    "import time\n",
    "from urllib.parse import urlsplit"
   ]
  },
  {
   "cell_type": "code",
   "execution_count": 2,
   "id": "65540f4b",
   "metadata": {},
   "outputs": [],
   "source": [
    "service = Service(executable_path=r'C:\\Program Files\\Google\\Chrome\\Application\\chromedriver')\n",
    "options = webdriver.ChromeOptions()\n",
    "options.add_experimental_option(\"excludeSwitches\",[\"ignore-certificate-errors\"])\n",
    "options.add_argument('--disable-gpu')\n",
    "options.add_argument('--headless')\n",
    "options.add_argument('--no-sandbox')\n",
    "options.add_argument('--disable-dev-shm-usage')\n",
    "options.add_argument(\"user-agent=Mozilla/5.0 (Windows NT 6.1; Win64; x64) AppleWebKit/537.36 (KHTML, like Gecko) Chrome/84.0.4147.125 Safari/537.36\")\n",
    "\n",
    "# To make pages load faster by excluding some resources.\n",
    "options.add_experimental_option( \"prefs\",{'profile.managed_default_content_settings.xhr': 2,\n",
    "                                                 'profile.managed_default_content_settings.preflight': 2,\n",
    "                                                 'profile.managed_default_content_settings.images': 2,\n",
    "                                                'profile.managed_default_content_settings.font': 2,\n",
    "                                                'profile.managed_default_content_settings.css': 2})\n",
    "\n",
    "driver = webdriver.Chrome(service=service, options=options)"
   ]
  },
  {
   "cell_type": "code",
   "execution_count": 3,
   "id": "4cf74c6a",
   "metadata": {},
   "outputs": [],
   "source": [
    "def enter_url():\n",
    "    url = input('Enter URL: ')\n",
    "\n",
    "    # URL validation\n",
    "    if not url.startswith(\"https\"):\n",
    "        url = 'https://' + url\n",
    "    elif not url.startswith(\"http\"):\n",
    "        url = 'http://' + url\n",
    "    else:\n",
    "        pass\n",
    "    \n",
    "    return url"
   ]
  },
  {
   "cell_type": "code",
   "execution_count": 26,
   "id": "b25bd320",
   "metadata": {},
   "outputs": [
    {
     "name": "stdout",
     "output_type": "stream",
     "text": [
      "Enter URL: www.google.com\n",
      "google.com\n"
     ]
    }
   ],
   "source": [
    "url = enter_url()\n",
    "\n",
    "def base_url(url):\n",
    "    parts = urlsplit(url)\n",
    "    base = '{0.netloc}'.format(parts)\n",
    "    temp = base.split('.')\n",
    "    remove_this = temp[0] + '.'\n",
    "    base = base.replace(remove_this, '')\n",
    "    \n",
    "    return base\n",
    "\n",
    "domain_url = base_url(url)\n",
    "print(domain_url)\n",
    "links_to_scrape = []\n",
    "links_to_scrape.append(url)\n",
    "scraped_links = []\n",
    "all_links = {}"
   ]
  },
  {
   "cell_type": "code",
   "execution_count": null,
   "id": "603dc466",
   "metadata": {},
   "outputs": [],
   "source": []
  },
  {
   "cell_type": "code",
   "execution_count": 27,
   "id": "1d74469d",
   "metadata": {},
   "outputs": [],
   "source": [
    "def link_finder():\n",
    "    \n",
    "    url = links_to_scrape[0]\n",
    "    if url == None:\n",
    "        return None\n",
    "    driver.get(url)\n",
    "\n",
    "    # Give the required tag and/or class, etc.\n",
    "    elems = driver.find_elements(by=By.TAG_NAME, value=\"a\")\n",
    "    links_found = []\n",
    "    # Save the scraped links in list\n",
    "    for elem in elems:\n",
    "        link = elem.get_attribute(\"href\")\n",
    "        links_found.append(link)\n",
    "        all_links[link] = 1\n",
    "        \n",
    "        \n",
    "    scraped_links.append(url)\n",
    "    links_to_scrape.remove(url)\n",
    "    \n",
    "    for link in links_found:\n",
    "        link_base = base_url(link)\n",
    "        if domain_url == link_base:\n",
    "            if link in scraped_links:\n",
    "                pass\n",
    "            else:\n",
    "                links_to_scrape.append(link)\n",
    "                \n",
    "    \n",
    "            \n",
    "    driver.quit()"
   ]
  },
  {
   "cell_type": "code",
   "execution_count": 28,
   "id": "2b4c754e",
   "metadata": {},
   "outputs": [
    {
     "name": "stdout",
     "output_type": "stream",
     "text": [
      "Test 0 started!\n",
      "Test completed!\n"
     ]
    }
   ],
   "source": [
    "N = 1   # Number of browsers to spawn\n",
    "thread_list = list()\n",
    "\n",
    "# Start test\n",
    "for i in range(N):\n",
    "    t = threading.Thread(name='Test {}'.format(i), target=link_finder)\n",
    "    t.start()\n",
    "    time.sleep(1)\n",
    "    print(t.name + ' started!')\n",
    "    thread_list.append(t)\n",
    "\n",
    "# Wait for all threads to complete\n",
    "for thread in thread_list:\n",
    "    thread.join()\n",
    "\n",
    "print('Test completed!')"
   ]
  },
  {
   "cell_type": "code",
   "execution_count": 29,
   "id": "07b753d7",
   "metadata": {},
   "outputs": [
    {
     "name": "stdout",
     "output_type": "stream",
     "text": [
      "19\n"
     ]
    }
   ],
   "source": [
    "print(len(all_links))"
   ]
  },
  {
   "cell_type": "code",
   "execution_count": 30,
   "id": "8f0530d4",
   "metadata": {},
   "outputs": [
    {
     "name": "stdout",
     "output_type": "stream",
     "text": [
      "{'https://mail.google.com/mail/&ogbl': 1, 'https://www.google.com/imghp?hl=en&ogbl': 1, 'https://www.google.com.pk/intl/en/about/products': 1, 'https://accounts.google.com/ServiceLogin?hl=en&passive=true&continue=https://www.google.com/&ec=GAZAmgQ': 1, 'https://www.google.com/#': 1, 'https://www.google.com/setprefs?sig=0_yRCZXqdrJkcxZBvkxL-AgQDiobY%3D&hl=ur&source=homepage&sa=X&ved=0ahUKEwjh4pKWgbyAAxUfTqQEHQyyAasQ2ZgBCBE': 1, 'https://www.google.com/setprefs?sig=0_yRCZXqdrJkcxZBvkxL-AgQDiobY%3D&hl=ps&source=homepage&sa=X&ved=0ahUKEwjh4pKWgbyAAxUfTqQEHQyyAasQ2ZgBCBI': 1, 'https://www.google.com/setprefs?sig=0_yRCZXqdrJkcxZBvkxL-AgQDiobY%3D&hl=sd&source=homepage&sa=X&ved=0ahUKEwjh4pKWgbyAAxUfTqQEHQyyAasQ2ZgBCBM': 1, 'https://about.google/?utm_source=google-PK&utm_medium=referral&utm_campaign=hp-footer&fg=1': 1, 'https://www.google.com/intl/en_pk/ads/?subid=ww-ww-et-g-awa-a-g_hpafoot1_1!o2&utm_source=google.com&utm_medium=referral&utm_campaign=google_hpafooter&fg=1': 1, 'https://www.google.com/services/?subid=ww-ww-et-g-awa-a-g_hpbfoot1_1!o2&utm_source=google.com&utm_medium=referral&utm_campaign=google_hpbfooter&fg=1': 1, 'https://google.com/search/howsearchworks/?fg=1': 1, 'https://policies.google.com/privacy?hl=en-PK&fg=1': 1, 'https://policies.google.com/terms?hl=en-PK&fg=1': 1, 'https://www.google.com/preferences?hl=en-PK&fg=1': 1, 'https://www.google.com/advanced_search?hl=en-PK&fg=1': 1, 'https://www.google.com/history/privacyadvisor/search/unauth?utm_source=googlemenu&fg=1&cctld=com': 1, 'https://www.google.com/history/optout?hl=en-PK&fg=1': 1, 'https://support.google.com/websearch/?p=ws_results_help&hl=en-PK&fg=1': 1}\n"
     ]
    }
   ],
   "source": [
    "print(all_links)"
   ]
  },
  {
   "cell_type": "code",
   "execution_count": 31,
   "id": "7b3cd6fc",
   "metadata": {},
   "outputs": [
    {
     "name": "stdout",
     "output_type": "stream",
     "text": [
      "['https://www.google.com']\n"
     ]
    }
   ],
   "source": [
    "print(scraped_links)"
   ]
  },
  {
   "cell_type": "code",
   "execution_count": 32,
   "id": "87569378",
   "metadata": {},
   "outputs": [
    {
     "name": "stdout",
     "output_type": "stream",
     "text": [
      "['https://mail.google.com/mail/&ogbl', 'https://www.google.com/imghp?hl=en&ogbl', 'https://accounts.google.com/ServiceLogin?hl=en&passive=true&continue=https://www.google.com/&ec=GAZAmgQ', 'https://www.google.com/#', 'https://www.google.com/setprefs?sig=0_yRCZXqdrJkcxZBvkxL-AgQDiobY%3D&hl=ur&source=homepage&sa=X&ved=0ahUKEwjh4pKWgbyAAxUfTqQEHQyyAasQ2ZgBCBE', 'https://www.google.com/setprefs?sig=0_yRCZXqdrJkcxZBvkxL-AgQDiobY%3D&hl=ps&source=homepage&sa=X&ved=0ahUKEwjh4pKWgbyAAxUfTqQEHQyyAasQ2ZgBCBI', 'https://www.google.com/setprefs?sig=0_yRCZXqdrJkcxZBvkxL-AgQDiobY%3D&hl=sd&source=homepage&sa=X&ved=0ahUKEwjh4pKWgbyAAxUfTqQEHQyyAasQ2ZgBCBM', 'https://www.google.com/intl/en_pk/ads/?subid=ww-ww-et-g-awa-a-g_hpafoot1_1!o2&utm_source=google.com&utm_medium=referral&utm_campaign=google_hpafooter&fg=1', 'https://www.google.com/services/?subid=ww-ww-et-g-awa-a-g_hpbfoot1_1!o2&utm_source=google.com&utm_medium=referral&utm_campaign=google_hpbfooter&fg=1', 'https://policies.google.com/privacy?hl=en-PK&fg=1', 'https://policies.google.com/terms?hl=en-PK&fg=1', 'https://www.google.com/preferences?hl=en-PK&fg=1', 'https://www.google.com/advanced_search?hl=en-PK&fg=1', 'https://www.google.com/history/privacyadvisor/search/unauth?utm_source=googlemenu&fg=1&cctld=com', 'https://www.google.com/history/optout?hl=en-PK&fg=1', 'https://support.google.com/websearch/?p=ws_results_help&hl=en-PK&fg=1']\n"
     ]
    }
   ],
   "source": [
    "print(links_to_scrape)"
   ]
  },
  {
   "cell_type": "code",
   "execution_count": null,
   "id": "98503b8f",
   "metadata": {},
   "outputs": [],
   "source": []
  }
 ],
 "metadata": {
  "kernelspec": {
   "display_name": "Python 3 (ipykernel)",
   "language": "python",
   "name": "python3"
  },
  "language_info": {
   "codemirror_mode": {
    "name": "ipython",
    "version": 3
   },
   "file_extension": ".py",
   "mimetype": "text/x-python",
   "name": "python",
   "nbconvert_exporter": "python",
   "pygments_lexer": "ipython3",
   "version": "3.9.13"
  }
 },
 "nbformat": 4,
 "nbformat_minor": 5
}
